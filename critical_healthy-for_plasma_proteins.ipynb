{
 "cells": [
  {
   "cell_type": "code",
   "execution_count": null,
   "metadata": {
    "id": "G2_FW08z46ol"
   },
   "outputs": [],
   "source": [
    "# ! pip install git+https://github.com/fraenkel-lab/OmicsIntegrator2.git\n",
    "# ! pip install --upgrade --force-reinstall --no-deps python-louvain\n",
    "# ! pip install --upgrade --force-reinstall --no-deps networkx"
   ]
  },
  {
   "cell_type": "code",
   "execution_count": 1,
   "metadata": {
    "id": "B_1bZgBa5FiX"
   },
   "outputs": [],
   "source": [
    "%matplotlib inline\n",
    "import numpy as np\n",
    "import pandas as pd\n",
    "import networkx as nx\n",
    "from matplotlib import pyplot as plt\n",
    "\n",
    "import OmicsIntegrator as oi\n"
   ]
  },
  {
   "cell_type": "code",
   "execution_count": 17,
   "metadata": {
    "id": "HqBJm4h55t0X"
   },
   "outputs": [],
   "source": [
    "interactome_file = \"interactome.txt\"\n",
    "prize_file = \"inputs\\Covid_prizes.txt\"\n",
    "plasma_proteins = \"inputs\\plasma_proteins_atlas.csv\"\n",
    "\n",
    "interactome = pd.read_csv(interactome_file, delimiter = '\\t')\n",
    "plasma = pd.read_csv(plasma_proteins)\n",
    "\n",
    "out1 = pd.merge(interactome, plasma, left_on= 'protein1', right_on= 'Gene', how='inner')\n",
    "out2 = pd.merge(interactome, plasma, left_on= 'protein2', right_on= 'Gene', how='inner')\n",
    "plasma_interactome = pd.concat([out1,out2]).drop_duplicates()[['protein1', 'protein2', 'cost']].to_csv('plasma_interactome.txt', sep='\\t', index= False)\n",
    "\n",
    "\n",
    "\n",
    "\n",
    "\n",
    "graph = oi.Graph('plasma_interactome.txt')\n",
    "\n",
    "#{'g':5, \"w\":5 , \"b\":7}"
   ]
  },
  {
   "cell_type": "code",
   "execution_count": 18,
   "metadata": {
    "colab": {
     "base_uri": "https://localhost:8080/"
    },
    "id": "zQVDdcjs6aP-",
    "outputId": "104f7366-9329-4405-a729-0f43daeca63c"
   },
   "outputs": [
    {
     "name": "stderr",
     "output_type": "stream",
     "text": [
      "11:29:48 - OI2: INFO - Duplicated gene symbols in the prize file (we'll keep the max prize):\n",
      "11:29:48 - OI2: INFO - []\n",
      "11:29:48 - OI2: INFO - Members of the prize file not present in the interactome:\n",
      "11:29:48 - OI2: INFO - ['C4A', 'FCGBP', 'IGHG2', 'IGHG4', 'IGHV3-43', 'IGHV3-72', 'IGHV3-74', 'IGKV1D-13', 'IGKV1D-37', 'IGKV2-40', 'IGKV3-20', 'IGKV3D-15', 'IGKV4-1', 'IGLV1-40', 'IGLV3-21', 'IGLV6-57', 'KRTDAP', 'TMEM198']\n"
     ]
    }
   ],
   "source": [
    "graph.prepare_prizes(prize_file)\n",
    "\n",
    "#Ws = list(np.arange(0,5,1))\n",
    "#Bs = list(np.arange(0,5,1))\n",
    "#Gs = list(np.arange(0.5,10,1))\n",
    "\n",
    "# results = graph.grid_search(prize_file, Ws, Bs, Gs)\n",
    "# membership_df = oi.summarize_grid_search(results, \"membership\")"
   ]
  },
  {
   "cell_type": "code",
   "execution_count": 19,
   "metadata": {
    "id": "DJEaoTsMObF4"
   },
   "outputs": [],
   "source": [
    "vertex_indices, edge_indices = graph.pcsf()"
   ]
  },
  {
   "cell_type": "code",
   "execution_count": 20,
   "metadata": {
    "colab": {
     "base_uri": "https://localhost:8080/"
    },
    "id": "XXINsG67OgXE",
    "outputId": "f319657a-56f0-45a9-b35c-67c5657196ce"
   },
   "outputs": [
    {
     "data": {
      "text/plain": [
       "128"
      ]
     },
     "execution_count": 20,
     "metadata": {},
     "output_type": "execute_result"
    }
   ],
   "source": [
    "len(vertex_indices)"
   ]
  },
  {
   "cell_type": "code",
   "execution_count": 21,
   "metadata": {
    "colab": {
     "base_uri": "https://localhost:8080/"
    },
    "id": "rXAXOGPwOiYG",
    "outputId": "817219bf-ff50-4fa9-ac17-5f4eea92381f"
   },
   "outputs": [
    {
     "name": "stdout",
     "output_type": "stream",
     "text": [
      "Graph with 128 nodes and 303 edges\n"
     ]
    }
   ],
   "source": [
    "forest, augmented_forest = graph.output_forest_as_networkx(vertex_indices, edge_indices)\n",
    "print(augmented_forest)"
   ]
  },
  {
   "cell_type": "code",
   "execution_count": null,
   "metadata": {
    "id": "5mTIKdvxOkAl"
   },
   "outputs": [],
   "source": [
    "nx.draw_spring(forest)"
   ]
  },
  {
   "cell_type": "code",
   "execution_count": 23,
   "metadata": {
    "colab": {
     "base_uri": "https://localhost:8080/"
    },
    "id": "cON6wEsdTW9U",
    "outputId": "07bfefed-c928-464d-bbe6-c88b810980cb"
   },
   "outputs": [
    {
     "data": {
      "text/plain": [
       "118.64054607200002"
      ]
     },
     "execution_count": 23,
     "metadata": {},
     "output_type": "execute_result"
    }
   ],
   "source": [
    "graph.pcsf_objective_value(augmented_forest)"
   ]
  },
  {
   "cell_type": "code",
   "execution_count": 24,
   "metadata": {
    "id": "nYaUSVwsTXVT"
   },
   "outputs": [
    {
     "data": {
      "text/html": [
       "<div>\n",
       "<style scoped>\n",
       "    .dataframe tbody tr th:only-of-type {\n",
       "        vertical-align: middle;\n",
       "    }\n",
       "\n",
       "    .dataframe tbody tr th {\n",
       "        vertical-align: top;\n",
       "    }\n",
       "\n",
       "    .dataframe thead th {\n",
       "        text-align: right;\n",
       "    }\n",
       "</style>\n",
       "<table border=\"1\" class=\"dataframe\">\n",
       "  <thead>\n",
       "    <tr style=\"text-align: right;\">\n",
       "      <th></th>\n",
       "      <th>protein1</th>\n",
       "      <th>protein2</th>\n",
       "      <th>in_solution</th>\n",
       "      <th>cost</th>\n",
       "    </tr>\n",
       "  </thead>\n",
       "  <tbody>\n",
       "    <tr>\n",
       "      <th>0</th>\n",
       "      <td>CFI</td>\n",
       "      <td>CFH</td>\n",
       "      <td>True</td>\n",
       "      <td>0.205775</td>\n",
       "    </tr>\n",
       "    <tr>\n",
       "      <th>1</th>\n",
       "      <td>CFI</td>\n",
       "      <td>C3</td>\n",
       "      <td>NaN</td>\n",
       "      <td>0.675872</td>\n",
       "    </tr>\n",
       "    <tr>\n",
       "      <th>2</th>\n",
       "      <td>FCGR3A</td>\n",
       "      <td>APCS</td>\n",
       "      <td>NaN</td>\n",
       "      <td>0.438873</td>\n",
       "    </tr>\n",
       "    <tr>\n",
       "      <th>3</th>\n",
       "      <td>FCGR3A</td>\n",
       "      <td>CD4</td>\n",
       "      <td>True</td>\n",
       "      <td>0.234063</td>\n",
       "    </tr>\n",
       "    <tr>\n",
       "      <th>4</th>\n",
       "      <td>FCGR3A</td>\n",
       "      <td>GP6</td>\n",
       "      <td>True</td>\n",
       "      <td>0.205775</td>\n",
       "    </tr>\n",
       "  </tbody>\n",
       "</table>\n",
       "</div>"
      ],
      "text/plain": [
       "  protein1 protein2 in_solution      cost\n",
       "0      CFI      CFH        True  0.205775\n",
       "1      CFI       C3         NaN  0.675872\n",
       "2   FCGR3A     APCS         NaN  0.438873\n",
       "3   FCGR3A      CD4        True  0.234063\n",
       "4   FCGR3A      GP6        True  0.205775"
      ]
     },
     "execution_count": 24,
     "metadata": {},
     "output_type": "execute_result"
    }
   ],
   "source": [
    "oi.get_networkx_graph_as_dataframe_of_edges(augmented_forest).head()"
   ]
  },
  {
   "cell_type": "code",
   "execution_count": null,
   "metadata": {
    "id": "mybp10hUTZ1L"
   },
   "outputs": [],
   "source": [
    "oi.output_networkx_graph_as_graphml_for_cytoscape(augmented_forest, output_dir='')"
   ]
  },
  {
   "cell_type": "code",
   "execution_count": 26,
   "metadata": {
    "id": "pXoEwGTsXB2Q"
   },
   "outputs": [],
   "source": [
    "oi.get_networkx_graph_as_dataframe_of_edges(augmented_forest).to_csv('edges.txt', sep='\\t', header=True, index=False)\n",
    "oi.get_networkx_graph_as_dataframe_of_nodes(augmented_forest).to_csv('nodes.txt', sep='\\t', header=True, index=True)\n"
   ]
  },
  {
   "cell_type": "code",
   "execution_count": null,
   "metadata": {
    "id": "2Aae07VhBv0w"
   },
   "outputs": [],
   "source": [
    "Data = pd.read_csv('interactome.txt', delimiter='\\t')\n",
    "file = open('shortest_path.csv', 'w')\n",
    "\n",
    "src = pd.read_csv('nodes.txt', delimiter='\\t')\n",
    "src = src.iloc[:,0].values\n",
    "\n",
    "trgt = pd.read_csv('gordon_proteins.txt', delimiter='\\t')\n",
    "trgt = trgt.iloc[:,2].values\n",
    "\n",
    "G = nx.from_pandas_edgelist(Data, edge_attr='cost', source='protein1', target = 'protein2')\n",
    "G.remove_node('UBC') \n",
    "\n",
    "for s in src:\n",
    "  for t in trgt:\n",
    "    \n",
    "    try:\n",
    "      sp=nx.shortest_path(G, source=s, target=t)\n",
    "      if len(sp)<= 2:\n",
    "        file.writelines('\\t'.join(sp)+'\\n')\n",
    "        print(sp)\n",
    "    except:\n",
    "      continue\n",
    "file.close()\n",
    "\n",
    "  \n"
   ]
  },
  {
   "cell_type": "code",
   "execution_count": null,
   "metadata": {
    "id": "_2qFmts6-izE"
   },
   "outputs": [],
   "source": []
  }
 ],
 "metadata": {
  "colab": {
   "collapsed_sections": [],
   "name": "critical_healthy.ipynb",
   "provenance": []
  },
  "kernelspec": {
   "display_name": "Python 3",
   "language": "python",
   "name": "python3"
  },
  "language_info": {
   "codemirror_mode": {
    "name": "ipython",
    "version": 3
   },
   "file_extension": ".py",
   "mimetype": "text/x-python",
   "name": "python",
   "nbconvert_exporter": "python",
   "pygments_lexer": "ipython3",
   "version": "3.8.5"
  }
 },
 "nbformat": 4,
 "nbformat_minor": 4
}
